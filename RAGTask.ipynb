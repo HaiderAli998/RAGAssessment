{
  "nbformat": 4,
  "nbformat_minor": 0,
  "metadata": {
    "colab": {
      "provenance": []
    },
    "kernelspec": {
      "name": "python3",
      "display_name": "Python 3"
    },
    "language_info": {
      "name": "python"
    }
  },
  "cells": [
    {
      "cell_type": "markdown",
      "source": [
        "# RAG Question-to-Topic Mapping Pipeline"
      ],
      "metadata": {
        "id": "oQyJ8-oJ8u_S"
      }
    },
    {
      "cell_type": "markdown",
      "source": [
        "1. Setup & Install Dependencies"
      ],
      "metadata": {
        "id": "Y9Gv6fen82hM"
      }
    },
    {
      "cell_type": "code",
      "source": [
        "# Install required libraries\n",
        "!pip install openai pandas tqdm\n"
      ],
      "metadata": {
        "colab": {
          "base_uri": "https://localhost:8080/"
        },
        "id": "iBhuW4qf84XF",
        "outputId": "262cd359-18d9-47ab-e744-3a22312792ab"
      },
      "execution_count": 1,
      "outputs": [
        {
          "output_type": "stream",
          "name": "stdout",
          "text": [
            "Requirement already satisfied: openai in /usr/local/lib/python3.11/dist-packages (1.96.1)\n",
            "Requirement already satisfied: pandas in /usr/local/lib/python3.11/dist-packages (2.2.2)\n",
            "Requirement already satisfied: tqdm in /usr/local/lib/python3.11/dist-packages (4.67.1)\n",
            "Requirement already satisfied: anyio<5,>=3.5.0 in /usr/local/lib/python3.11/dist-packages (from openai) (4.9.0)\n",
            "Requirement already satisfied: distro<2,>=1.7.0 in /usr/local/lib/python3.11/dist-packages (from openai) (1.9.0)\n",
            "Requirement already satisfied: httpx<1,>=0.23.0 in /usr/local/lib/python3.11/dist-packages (from openai) (0.28.1)\n",
            "Requirement already satisfied: jiter<1,>=0.4.0 in /usr/local/lib/python3.11/dist-packages (from openai) (0.10.0)\n",
            "Requirement already satisfied: pydantic<3,>=1.9.0 in /usr/local/lib/python3.11/dist-packages (from openai) (2.11.7)\n",
            "Requirement already satisfied: sniffio in /usr/local/lib/python3.11/dist-packages (from openai) (1.3.1)\n",
            "Requirement already satisfied: typing-extensions<5,>=4.11 in /usr/local/lib/python3.11/dist-packages (from openai) (4.14.1)\n",
            "Requirement already satisfied: numpy>=1.23.2 in /usr/local/lib/python3.11/dist-packages (from pandas) (2.0.2)\n",
            "Requirement already satisfied: python-dateutil>=2.8.2 in /usr/local/lib/python3.11/dist-packages (from pandas) (2.9.0.post0)\n",
            "Requirement already satisfied: pytz>=2020.1 in /usr/local/lib/python3.11/dist-packages (from pandas) (2025.2)\n",
            "Requirement already satisfied: tzdata>=2022.7 in /usr/local/lib/python3.11/dist-packages (from pandas) (2025.2)\n",
            "Requirement already satisfied: idna>=2.8 in /usr/local/lib/python3.11/dist-packages (from anyio<5,>=3.5.0->openai) (3.10)\n",
            "Requirement already satisfied: certifi in /usr/local/lib/python3.11/dist-packages (from httpx<1,>=0.23.0->openai) (2025.7.14)\n",
            "Requirement already satisfied: httpcore==1.* in /usr/local/lib/python3.11/dist-packages (from httpx<1,>=0.23.0->openai) (1.0.9)\n",
            "Requirement already satisfied: h11>=0.16 in /usr/local/lib/python3.11/dist-packages (from httpcore==1.*->httpx<1,>=0.23.0->openai) (0.16.0)\n",
            "Requirement already satisfied: annotated-types>=0.6.0 in /usr/local/lib/python3.11/dist-packages (from pydantic<3,>=1.9.0->openai) (0.7.0)\n",
            "Requirement already satisfied: pydantic-core==2.33.2 in /usr/local/lib/python3.11/dist-packages (from pydantic<3,>=1.9.0->openai) (2.33.2)\n",
            "Requirement already satisfied: typing-inspection>=0.4.0 in /usr/local/lib/python3.11/dist-packages (from pydantic<3,>=1.9.0->openai) (0.4.1)\n",
            "Requirement already satisfied: six>=1.5 in /usr/local/lib/python3.11/dist-packages (from python-dateutil>=2.8.2->pandas) (1.17.0)\n"
          ]
        }
      ]
    },
    {
      "cell_type": "markdown",
      "source": [
        "2. Enter OpenAI API Key"
      ],
      "metadata": {
        "id": "VpTCuu0U874m"
      }
    },
    {
      "cell_type": "code",
      "source": [
        "import getpass\n",
        "import openai\n",
        "\n",
        "# Prompt for OpenAI API key (keeps it hidden)\n",
        "openai.api_key = getpass.getpass(\"Enter your OpenAI API key: \")\n"
      ],
      "metadata": {
        "colab": {
          "base_uri": "https://localhost:8080/"
        },
        "id": "t6sh_pJV89ey",
        "outputId": "587020d2-c391-4dcd-ae89-b36a862c9116"
      },
      "execution_count": 2,
      "outputs": [
        {
          "name": "stdout",
          "output_type": "stream",
          "text": [
            "Enter your OpenAI API key: ··········\n"
          ]
        }
      ]
    },
    {
      "cell_type": "markdown",
      "source": [
        "3. Data Loading"
      ],
      "metadata": {
        "id": "7o_qo1nh9APj"
      }
    },
    {
      "cell_type": "code",
      "source": [
        "import pandas as pd\n",
        "import json\n",
        "\n",
        "# Mount Google Drive if your files are in Drive (skip if uploading manually)\n",
        "# from google.colab import drive\n",
        "# drive.mount('/content/drive')\n",
        "\n",
        "# Load questions\n",
        "questions_df = pd.read_excel(\"/content/Assessments Test 3-6-25 - sample - testing - 10 questions.xlsx\")\n",
        "print(\"Loaded questions:\", questions_df.shape)\n",
        "\n",
        "# Load topics metadata\n",
        "with open(\"/content/topics_metadata.json\", \"r\") as f:\n",
        "    topics = json.load(f)\n",
        "\n",
        "# Load ground truth (evaluation)\n",
        "eval_df = pd.read_excel(\"/content/evaluation_file.xlsx\")\n",
        "print(\"Loaded evaluation:\", eval_df.shape)\n"
      ],
      "metadata": {
        "colab": {
          "base_uri": "https://localhost:8080/"
        },
        "id": "lPQBM5nj9A0S",
        "outputId": "231f81bc-1ea5-40e8-bc15-18d8bbe49d89"
      },
      "execution_count": 5,
      "outputs": [
        {
          "output_type": "stream",
          "name": "stdout",
          "text": [
            "Loaded questions: (9, 14)\n",
            "Loaded evaluation: (9, 3)\n"
          ]
        }
      ]
    },
    {
      "cell_type": "markdown",
      "source": [
        "4. Parse Topic Metadata"
      ],
      "metadata": {
        "id": "ks7Crmco9HLy"
      }
    },
    {
      "cell_type": "code",
      "source": [
        "# Extract topic names and descriptions\n",
        "topic_names = []\n",
        "topic_descriptions = []\n",
        "for t in topics:\n",
        "    topic_names.append(t[\"Topics\"])\n",
        "    desc = \"\"\n",
        "    subtopics = t.get(\"Examples of Subtopics that would be\\nincluded\") or t.get(\"Examples of Subtopics that would be included\")\n",
        "    if isinstance(subtopics, dict):\n",
        "        desc = \". \".join([f\"{k}: {v}\" for k, v in subtopics.items()])\n",
        "    topic_descriptions.append(desc)\n",
        "\n",
        "# Full text for embeddings\n",
        "topic_fulltexts = [f\"{name}. {desc}\" for name, desc in zip(topic_names, topic_descriptions)]\n",
        "print(f\"Extracted {len(topic_names)} topics.\")\n"
      ],
      "metadata": {
        "colab": {
          "base_uri": "https://localhost:8080/"
        },
        "id": "SUabYs2H9Nqa",
        "outputId": "9e1fbf3a-bc78-47b9-9d5f-e4b45279c2c7"
      },
      "execution_count": 6,
      "outputs": [
        {
          "output_type": "stream",
          "name": "stdout",
          "text": [
            "Extracted 24 topics.\n"
          ]
        }
      ]
    },
    {
      "cell_type": "markdown",
      "source": [
        "5. Generate OpenAI Embeddings"
      ],
      "metadata": {
        "id": "lKWtOeDz9RDd"
      }
    },
    {
      "cell_type": "code",
      "source": [
        "from tqdm import tqdm\n",
        "\n",
        "def get_embedding(text, model=\"text-embedding-3-small\"):\n",
        "    response = openai.embeddings.create(input=[text], model=model)\n",
        "    return response.data[0].embedding\n",
        "\n",
        "# Topic embeddings\n",
        "topic_embeddings = []\n",
        "for txt in tqdm(topic_fulltexts, desc=\"Embedding topics\"):\n",
        "    topic_embeddings.append(get_embedding(txt))\n",
        "\n",
        "# Question embeddings\n",
        "question_embeddings = []\n",
        "for q in tqdm(questions_df[\"Question\"], desc=\"Embedding questions\"):\n",
        "    question_embeddings.append(get_embedding(str(q)))\n"
      ],
      "metadata": {
        "colab": {
          "base_uri": "https://localhost:8080/"
        },
        "id": "xmXw69Ry9TCy",
        "outputId": "14fd0fe2-9dc3-4849-91d2-d5c0e2ebbca8"
      },
      "execution_count": 7,
      "outputs": [
        {
          "output_type": "stream",
          "name": "stderr",
          "text": [
            "Embedding topics: 100%|██████████| 24/24 [00:10<00:00,  2.27it/s]\n",
            "Embedding questions: 100%|██████████| 9/9 [00:03<00:00,  2.68it/s]\n"
          ]
        }
      ]
    },
    {
      "cell_type": "markdown",
      "source": [
        "6. Semantic Retrieval: Find Top-N Topics for Each Question"
      ],
      "metadata": {
        "id": "eUu0Tz7G9X1G"
      }
    },
    {
      "cell_type": "code",
      "source": [
        "import numpy as np\n",
        "\n",
        "def cosine_similarity(a, b):\n",
        "    a, b = np.array(a), np.array(b)\n",
        "    return float(np.dot(a, b) / (np.linalg.norm(a) * np.linalg.norm(b)))\n",
        "\n",
        "def retrieve_top_n(question_emb, topic_embeddings, N=3):\n",
        "    sims = [cosine_similarity(question_emb, emb) for emb in topic_embeddings]\n",
        "    idx = np.argsort(sims)[-N:][::-1]\n",
        "    return idx, [sims[i] for i in idx]\n"
      ],
      "metadata": {
        "id": "Apn84Mfd9Yqg"
      },
      "execution_count": 8,
      "outputs": []
    },
    {
      "cell_type": "markdown",
      "source": [
        "7. Generate Rationale (GPT-4.1) & Map Outputs"
      ],
      "metadata": {
        "id": "7K94qpXC9an6"
      }
    },
    {
      "cell_type": "code",
      "source": [
        "results = []\n",
        "\n",
        "for i, (q_text, q_emb) in enumerate(zip(questions_df[\"Question\"], question_embeddings)):\n",
        "    idxs, sims = retrieve_top_n(q_emb, topic_embeddings, N=3)\n",
        "    retrieved = [topic_names[j] for j in idxs]\n",
        "    top_topic = retrieved[0]\n",
        "    # Generate rationale using GPT-4.1\n",
        "    prompt = f\"\"\"You are a real estate exam coach.\n",
        "Given the question: \"{q_text}\" and the topic: \"{top_topic}\" ({topic_descriptions[idxs[0]]}),\n",
        "in 2 sentences, explain why this topic matches the question best.\"\"\"\n",
        "    rationale = openai.chat.completions.create(\n",
        "        model=\"gpt-4o\",\n",
        "        messages=[{\"role\": \"user\", \"content\": prompt}],\n",
        "        max_tokens=100,\n",
        "        temperature=0.2\n",
        "    ).choices[0].message.content.strip()\n",
        "    results.append({\n",
        "        \"input_question\": q_text,\n",
        "        \"predicted_topic\": top_topic,\n",
        "        \"retrieved_topics\": retrieved,\n",
        "        \"rationale\": rationale\n",
        "    })\n",
        "\n",
        "results_df = pd.DataFrame(results)\n",
        "results_df.to_excel(\"rag_question_topic_mapping.xlsx\", index=False)\n",
        "print(\"Results saved to rag_question_topic_mapping.xlsx\")\n",
        "results_df.head()\n"
      ],
      "metadata": {
        "colab": {
          "base_uri": "https://localhost:8080/",
          "height": 223
        },
        "id": "AdyIbWbP9ioA",
        "outputId": "e18c98db-1e76-481b-eab7-eb8ca87a1bf5"
      },
      "execution_count": 11,
      "outputs": [
        {
          "output_type": "stream",
          "name": "stdout",
          "text": [
            "Results saved to rag_question_topic_mapping.xlsx\n"
          ]
        },
        {
          "output_type": "execute_result",
          "data": {
            "text/plain": [
              "                                      input_question  \\\n",
              "0  The majority of new licensees begin their care...   \n",
              "1  What do most new real estate licensees do afte...   \n",
              "2  A licensee who is interested in retail stores ...   \n",
              "3  When considering a career in real estate, it i...   \n",
              "4  What should a licensee look for when selecting...   \n",
              "\n",
              "                          predicted_topic  \\\n",
              "0                  Licensing Requirements   \n",
              "1                  Licensing Requirements   \n",
              "2               Special Areas of Practice   \n",
              "3  Licensing Law and Brokerage Operations   \n",
              "4  Licensing Law and Brokerage Operations   \n",
              "\n",
              "                                    retrieved_topics  \\\n",
              "0  [Licensing Requirements, Licensing Law and Bro...   \n",
              "1  [Licensing Requirements, Out-of-State Brokers ...   \n",
              "2  [Special Areas of Practice, Licensing Law and ...   \n",
              "3  [Licensing Law and Brokerage Operations, Pract...   \n",
              "4  [Licensing Law and Brokerage Operations, Pract...   \n",
              "\n",
              "                                           rationale  \n",
              "0  The topic \"Licensing Requirements\" matches the...  \n",
              "1  The topic \"Licensing Requirements\" matches the...  \n",
              "2  The topic \"Special Areas of Practice\" includes...  \n",
              "3  The topic \"Licensing Law and Brokerage Operati...  \n",
              "4  The topic \"Licensing Law and Brokerage Operati...  "
            ],
            "text/html": [
              "\n",
              "  <div id=\"df-8d9ec53b-a56f-44a9-af49-0f4693aff364\" class=\"colab-df-container\">\n",
              "    <div>\n",
              "<style scoped>\n",
              "    .dataframe tbody tr th:only-of-type {\n",
              "        vertical-align: middle;\n",
              "    }\n",
              "\n",
              "    .dataframe tbody tr th {\n",
              "        vertical-align: top;\n",
              "    }\n",
              "\n",
              "    .dataframe thead th {\n",
              "        text-align: right;\n",
              "    }\n",
              "</style>\n",
              "<table border=\"1\" class=\"dataframe\">\n",
              "  <thead>\n",
              "    <tr style=\"text-align: right;\">\n",
              "      <th></th>\n",
              "      <th>input_question</th>\n",
              "      <th>predicted_topic</th>\n",
              "      <th>retrieved_topics</th>\n",
              "      <th>rationale</th>\n",
              "    </tr>\n",
              "  </thead>\n",
              "  <tbody>\n",
              "    <tr>\n",
              "      <th>0</th>\n",
              "      <td>The majority of new licensees begin their care...</td>\n",
              "      <td>Licensing Requirements</td>\n",
              "      <td>[Licensing Requirements, Licensing Law and Bro...</td>\n",
              "      <td>The topic \"Licensing Requirements\" matches the...</td>\n",
              "    </tr>\n",
              "    <tr>\n",
              "      <th>1</th>\n",
              "      <td>What do most new real estate licensees do afte...</td>\n",
              "      <td>Licensing Requirements</td>\n",
              "      <td>[Licensing Requirements, Out-of-State Brokers ...</td>\n",
              "      <td>The topic \"Licensing Requirements\" matches the...</td>\n",
              "    </tr>\n",
              "    <tr>\n",
              "      <th>2</th>\n",
              "      <td>A licensee who is interested in retail stores ...</td>\n",
              "      <td>Special Areas of Practice</td>\n",
              "      <td>[Special Areas of Practice, Licensing Law and ...</td>\n",
              "      <td>The topic \"Special Areas of Practice\" includes...</td>\n",
              "    </tr>\n",
              "    <tr>\n",
              "      <th>3</th>\n",
              "      <td>When considering a career in real estate, it i...</td>\n",
              "      <td>Licensing Law and Brokerage Operations</td>\n",
              "      <td>[Licensing Law and Brokerage Operations, Pract...</td>\n",
              "      <td>The topic \"Licensing Law and Brokerage Operati...</td>\n",
              "    </tr>\n",
              "    <tr>\n",
              "      <th>4</th>\n",
              "      <td>What should a licensee look for when selecting...</td>\n",
              "      <td>Licensing Law and Brokerage Operations</td>\n",
              "      <td>[Licensing Law and Brokerage Operations, Pract...</td>\n",
              "      <td>The topic \"Licensing Law and Brokerage Operati...</td>\n",
              "    </tr>\n",
              "  </tbody>\n",
              "</table>\n",
              "</div>\n",
              "    <div class=\"colab-df-buttons\">\n",
              "\n",
              "  <div class=\"colab-df-container\">\n",
              "    <button class=\"colab-df-convert\" onclick=\"convertToInteractive('df-8d9ec53b-a56f-44a9-af49-0f4693aff364')\"\n",
              "            title=\"Convert this dataframe to an interactive table.\"\n",
              "            style=\"display:none;\">\n",
              "\n",
              "  <svg xmlns=\"http://www.w3.org/2000/svg\" height=\"24px\" viewBox=\"0 -960 960 960\">\n",
              "    <path d=\"M120-120v-720h720v720H120Zm60-500h600v-160H180v160Zm220 220h160v-160H400v160Zm0 220h160v-160H400v160ZM180-400h160v-160H180v160Zm440 0h160v-160H620v160ZM180-180h160v-160H180v160Zm440 0h160v-160H620v160Z\"/>\n",
              "  </svg>\n",
              "    </button>\n",
              "\n",
              "  <style>\n",
              "    .colab-df-container {\n",
              "      display:flex;\n",
              "      gap: 12px;\n",
              "    }\n",
              "\n",
              "    .colab-df-convert {\n",
              "      background-color: #E8F0FE;\n",
              "      border: none;\n",
              "      border-radius: 50%;\n",
              "      cursor: pointer;\n",
              "      display: none;\n",
              "      fill: #1967D2;\n",
              "      height: 32px;\n",
              "      padding: 0 0 0 0;\n",
              "      width: 32px;\n",
              "    }\n",
              "\n",
              "    .colab-df-convert:hover {\n",
              "      background-color: #E2EBFA;\n",
              "      box-shadow: 0px 1px 2px rgba(60, 64, 67, 0.3), 0px 1px 3px 1px rgba(60, 64, 67, 0.15);\n",
              "      fill: #174EA6;\n",
              "    }\n",
              "\n",
              "    .colab-df-buttons div {\n",
              "      margin-bottom: 4px;\n",
              "    }\n",
              "\n",
              "    [theme=dark] .colab-df-convert {\n",
              "      background-color: #3B4455;\n",
              "      fill: #D2E3FC;\n",
              "    }\n",
              "\n",
              "    [theme=dark] .colab-df-convert:hover {\n",
              "      background-color: #434B5C;\n",
              "      box-shadow: 0px 1px 3px 1px rgba(0, 0, 0, 0.15);\n",
              "      filter: drop-shadow(0px 1px 2px rgba(0, 0, 0, 0.3));\n",
              "      fill: #FFFFFF;\n",
              "    }\n",
              "  </style>\n",
              "\n",
              "    <script>\n",
              "      const buttonEl =\n",
              "        document.querySelector('#df-8d9ec53b-a56f-44a9-af49-0f4693aff364 button.colab-df-convert');\n",
              "      buttonEl.style.display =\n",
              "        google.colab.kernel.accessAllowed ? 'block' : 'none';\n",
              "\n",
              "      async function convertToInteractive(key) {\n",
              "        const element = document.querySelector('#df-8d9ec53b-a56f-44a9-af49-0f4693aff364');\n",
              "        const dataTable =\n",
              "          await google.colab.kernel.invokeFunction('convertToInteractive',\n",
              "                                                    [key], {});\n",
              "        if (!dataTable) return;\n",
              "\n",
              "        const docLinkHtml = 'Like what you see? Visit the ' +\n",
              "          '<a target=\"_blank\" href=https://colab.research.google.com/notebooks/data_table.ipynb>data table notebook</a>'\n",
              "          + ' to learn more about interactive tables.';\n",
              "        element.innerHTML = '';\n",
              "        dataTable['output_type'] = 'display_data';\n",
              "        await google.colab.output.renderOutput(dataTable, element);\n",
              "        const docLink = document.createElement('div');\n",
              "        docLink.innerHTML = docLinkHtml;\n",
              "        element.appendChild(docLink);\n",
              "      }\n",
              "    </script>\n",
              "  </div>\n",
              "\n",
              "\n",
              "    <div id=\"df-fa1dfac4-a245-4339-9477-42aa48e78f56\">\n",
              "      <button class=\"colab-df-quickchart\" onclick=\"quickchart('df-fa1dfac4-a245-4339-9477-42aa48e78f56')\"\n",
              "                title=\"Suggest charts\"\n",
              "                style=\"display:none;\">\n",
              "\n",
              "<svg xmlns=\"http://www.w3.org/2000/svg\" height=\"24px\"viewBox=\"0 0 24 24\"\n",
              "     width=\"24px\">\n",
              "    <g>\n",
              "        <path d=\"M19 3H5c-1.1 0-2 .9-2 2v14c0 1.1.9 2 2 2h14c1.1 0 2-.9 2-2V5c0-1.1-.9-2-2-2zM9 17H7v-7h2v7zm4 0h-2V7h2v10zm4 0h-2v-4h2v4z\"/>\n",
              "    </g>\n",
              "</svg>\n",
              "      </button>\n",
              "\n",
              "<style>\n",
              "  .colab-df-quickchart {\n",
              "      --bg-color: #E8F0FE;\n",
              "      --fill-color: #1967D2;\n",
              "      --hover-bg-color: #E2EBFA;\n",
              "      --hover-fill-color: #174EA6;\n",
              "      --disabled-fill-color: #AAA;\n",
              "      --disabled-bg-color: #DDD;\n",
              "  }\n",
              "\n",
              "  [theme=dark] .colab-df-quickchart {\n",
              "      --bg-color: #3B4455;\n",
              "      --fill-color: #D2E3FC;\n",
              "      --hover-bg-color: #434B5C;\n",
              "      --hover-fill-color: #FFFFFF;\n",
              "      --disabled-bg-color: #3B4455;\n",
              "      --disabled-fill-color: #666;\n",
              "  }\n",
              "\n",
              "  .colab-df-quickchart {\n",
              "    background-color: var(--bg-color);\n",
              "    border: none;\n",
              "    border-radius: 50%;\n",
              "    cursor: pointer;\n",
              "    display: none;\n",
              "    fill: var(--fill-color);\n",
              "    height: 32px;\n",
              "    padding: 0;\n",
              "    width: 32px;\n",
              "  }\n",
              "\n",
              "  .colab-df-quickchart:hover {\n",
              "    background-color: var(--hover-bg-color);\n",
              "    box-shadow: 0 1px 2px rgba(60, 64, 67, 0.3), 0 1px 3px 1px rgba(60, 64, 67, 0.15);\n",
              "    fill: var(--button-hover-fill-color);\n",
              "  }\n",
              "\n",
              "  .colab-df-quickchart-complete:disabled,\n",
              "  .colab-df-quickchart-complete:disabled:hover {\n",
              "    background-color: var(--disabled-bg-color);\n",
              "    fill: var(--disabled-fill-color);\n",
              "    box-shadow: none;\n",
              "  }\n",
              "\n",
              "  .colab-df-spinner {\n",
              "    border: 2px solid var(--fill-color);\n",
              "    border-color: transparent;\n",
              "    border-bottom-color: var(--fill-color);\n",
              "    animation:\n",
              "      spin 1s steps(1) infinite;\n",
              "  }\n",
              "\n",
              "  @keyframes spin {\n",
              "    0% {\n",
              "      border-color: transparent;\n",
              "      border-bottom-color: var(--fill-color);\n",
              "      border-left-color: var(--fill-color);\n",
              "    }\n",
              "    20% {\n",
              "      border-color: transparent;\n",
              "      border-left-color: var(--fill-color);\n",
              "      border-top-color: var(--fill-color);\n",
              "    }\n",
              "    30% {\n",
              "      border-color: transparent;\n",
              "      border-left-color: var(--fill-color);\n",
              "      border-top-color: var(--fill-color);\n",
              "      border-right-color: var(--fill-color);\n",
              "    }\n",
              "    40% {\n",
              "      border-color: transparent;\n",
              "      border-right-color: var(--fill-color);\n",
              "      border-top-color: var(--fill-color);\n",
              "    }\n",
              "    60% {\n",
              "      border-color: transparent;\n",
              "      border-right-color: var(--fill-color);\n",
              "    }\n",
              "    80% {\n",
              "      border-color: transparent;\n",
              "      border-right-color: var(--fill-color);\n",
              "      border-bottom-color: var(--fill-color);\n",
              "    }\n",
              "    90% {\n",
              "      border-color: transparent;\n",
              "      border-bottom-color: var(--fill-color);\n",
              "    }\n",
              "  }\n",
              "</style>\n",
              "\n",
              "      <script>\n",
              "        async function quickchart(key) {\n",
              "          const quickchartButtonEl =\n",
              "            document.querySelector('#' + key + ' button');\n",
              "          quickchartButtonEl.disabled = true;  // To prevent multiple clicks.\n",
              "          quickchartButtonEl.classList.add('colab-df-spinner');\n",
              "          try {\n",
              "            const charts = await google.colab.kernel.invokeFunction(\n",
              "                'suggestCharts', [key], {});\n",
              "          } catch (error) {\n",
              "            console.error('Error during call to suggestCharts:', error);\n",
              "          }\n",
              "          quickchartButtonEl.classList.remove('colab-df-spinner');\n",
              "          quickchartButtonEl.classList.add('colab-df-quickchart-complete');\n",
              "        }\n",
              "        (() => {\n",
              "          let quickchartButtonEl =\n",
              "            document.querySelector('#df-fa1dfac4-a245-4339-9477-42aa48e78f56 button');\n",
              "          quickchartButtonEl.style.display =\n",
              "            google.colab.kernel.accessAllowed ? 'block' : 'none';\n",
              "        })();\n",
              "      </script>\n",
              "    </div>\n",
              "\n",
              "    </div>\n",
              "  </div>\n"
            ],
            "application/vnd.google.colaboratory.intrinsic+json": {
              "type": "dataframe",
              "variable_name": "results_df",
              "summary": "{\n  \"name\": \"results_df\",\n  \"rows\": 9,\n  \"fields\": [\n    {\n      \"column\": \"input_question\",\n      \"properties\": {\n        \"dtype\": \"string\",\n        \"num_unique_values\": 9,\n        \"samples\": [\n          \"Large independent real estate firms are:\",\n          \"What do most new real estate licensees do after passing the state exam and receiving the state license?\",\n          \"Which type of brokerage coordinator is responsible for the things that need to be resolved prior to closing?\"\n        ],\n        \"semantic_type\": \"\",\n        \"description\": \"\"\n      }\n    },\n    {\n      \"column\": \"predicted_topic\",\n      \"properties\": {\n        \"dtype\": \"category\",\n        \"num_unique_values\": 4,\n        \"samples\": [\n          \"Special Areas of Practice\",\n          \"Settlement and Closing\",\n          \"Licensing Requirements\"\n        ],\n        \"semantic_type\": \"\",\n        \"description\": \"\"\n      }\n    },\n    {\n      \"column\": \"retrieved_topics\",\n      \"properties\": {\n        \"dtype\": \"object\",\n        \"semantic_type\": \"\",\n        \"description\": \"\"\n      }\n    },\n    {\n      \"column\": \"rationale\",\n      \"properties\": {\n        \"dtype\": \"string\",\n        \"num_unique_values\": 9,\n        \"samples\": [\n          \"The topic \\\"Licensing Law and Brokerage Operations\\\" encompasses the regulatory and operational aspects of real estate firms, including the establishment and management of large independent real estate firms, which require a brokerage license and adherence to specific business structures and advertising rules. This topic is relevant to the question as it addresses the legal and operational framework within which large independent real estate firms operate, ensuring compliance with state laws and regulations.\",\n          \"The topic \\\"Licensing Requirements\\\" matches the question because it encompasses the necessary steps and actions that new real estate licensees typically undertake after passing the state exam, such as obtaining their license and beginning their professional practice. Additionally, it covers the ongoing responsibilities and requirements, like maintaining active license status and fulfilling continuing education, which are crucial for new licensees as they start their careers in real estate.\",\n          \"The topic \\\"Settlement and Closing\\\" encompasses the various responsibilities and tasks that need to be addressed before the finalization of a real estate transaction, including the coordination of prorations, credits, debits, and closing costs. A brokerage coordinator responsible for resolving issues prior to closing would be involved in these aspects, ensuring that all financial and legal matters are settled to facilitate a smooth transfer of property ownership.\"\n        ],\n        \"semantic_type\": \"\",\n        \"description\": \"\"\n      }\n    }\n  ]\n}"
            }
          },
          "metadata": {},
          "execution_count": 11
        }
      ]
    },
    {
      "cell_type": "markdown",
      "source": [
        "8. Evaluate Accuracy"
      ],
      "metadata": {
        "id": "RWPefJoA9ksl"
      }
    },
    {
      "cell_type": "code",
      "source": [
        "# Merge on 'input_question'\n",
        "merged = pd.merge(results_df, eval_df, on=\"input_question\", how=\"left\")\n",
        "\n",
        "# Compute accuracy\n",
        "accuracy = (merged[\"predicted_topic\"].str.lower() == merged[\"correct_topic\"].str.lower()).mean()\n",
        "print(f\"Accuracy: {accuracy*100:.2f}%\")\n",
        "\n",
        "# Display results for inspection\n",
        "print(merged[[\"input_question\", \"predicted_topic\", \"correct_topic\", \"retrieved_topics\", \"rationale\"]])\n",
        "\n"
      ],
      "metadata": {
        "colab": {
          "base_uri": "https://localhost:8080/"
        },
        "id": "DyEHgAgi9mu7",
        "outputId": "ec06ccea-34ef-4706-adfa-c30707cfcc85"
      },
      "execution_count": 14,
      "outputs": [
        {
          "output_type": "stream",
          "name": "stdout",
          "text": [
            "Accuracy: 11.11%\n",
            "                                      input_question  \\\n",
            "0  The majority of new licensees begin their care...   \n",
            "1  What do most new real estate licensees do afte...   \n",
            "2  A licensee who is interested in retail stores ...   \n",
            "3  When considering a career in real estate, it i...   \n",
            "4  What should a licensee look for when selecting...   \n",
            "5  Which type of brokerage coordinator is respons...   \n",
            "6  The advantage of choosing a small independent ...   \n",
            "7           Large independent real estate firms are:   \n",
            "8  The opportunity to operate under the name and ...   \n",
            "\n",
            "                          predicted_topic              correct_topic  \\\n",
            "0                  Licensing Requirements    Practice of Real Estate   \n",
            "1                  Licensing Requirements    Practice of Real Estate   \n",
            "2               Special Areas of Practice  Special Areas of Practice   \n",
            "3  Licensing Law and Brokerage Operations    Practice of Real Estate   \n",
            "4  Licensing Law and Brokerage Operations    Practice of Real Estate   \n",
            "5                  Settlement and Closing    Practice of Real Estate   \n",
            "6  Licensing Law and Brokerage Operations    Practice of Real Estate   \n",
            "7  Licensing Law and Brokerage Operations    Practice of Real Estate   \n",
            "8  Licensing Law and Brokerage Operations    Practice of Real Estate   \n",
            "\n",
            "                                    retrieved_topics  \\\n",
            "0  [Licensing Requirements, Licensing Law and Bro...   \n",
            "1  [Licensing Requirements, Out-of-State Brokers ...   \n",
            "2  [Special Areas of Practice, Licensing Law and ...   \n",
            "3  [Licensing Law and Brokerage Operations, Pract...   \n",
            "4  [Licensing Law and Brokerage Operations, Pract...   \n",
            "5  [Settlement and Closing, Agency (would include...   \n",
            "6  [Licensing Law and Brokerage Operations, Pract...   \n",
            "7  [Licensing Law and Brokerage Operations, Pract...   \n",
            "8  [Licensing Law and Brokerage Operations, Pract...   \n",
            "\n",
            "                                           rationale  \n",
            "0  The topic \"Licensing Requirements\" matches the...  \n",
            "1  The topic \"Licensing Requirements\" matches the...  \n",
            "2  The topic \"Special Areas of Practice\" includes...  \n",
            "3  The topic \"Licensing Law and Brokerage Operati...  \n",
            "4  The topic \"Licensing Law and Brokerage Operati...  \n",
            "5  The topic \"Settlement and Closing\" encompasses...  \n",
            "6  The topic \"Licensing Law and Brokerage Operati...  \n",
            "7  The topic \"Licensing Law and Brokerage Operati...  \n",
            "8  The question pertains to the concept of operat...  \n"
          ]
        }
      ]
    },
    {
      "cell_type": "markdown",
      "source": [
        "9. Download Results File (Colab Only)"
      ],
      "metadata": {
        "id": "uhfOyPGe9oXJ"
      }
    },
    {
      "cell_type": "code",
      "source": [
        "# If using Colab and want to download the file\n",
        "from google.colab import files\n",
        "files.download(\"rag_question_topic_mapping.xlsx\")\n"
      ],
      "metadata": {
        "id": "u0yBKTUv9ql8"
      },
      "execution_count": null,
      "outputs": []
    }
  ]
}